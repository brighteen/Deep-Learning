{
 "cells": [
  {
   "cell_type": "code",
   "execution_count": 1,
   "id": "a624e89b",
   "metadata": {},
   "outputs": [
    {
     "name": "stdout",
     "output_type": "stream",
     "text": [
      "s1: {1, 2, 3, 5, 6, 7, 10}\n",
      "s2: {'banana', 'apple', 'cherry'}\n",
      "s3: {1, 2, 3, 4, 5, 6, 7}\n"
     ]
    }
   ],
   "source": [
    "s1 = set([1, 2, 3, 6, 5, 10, 7])\n",
    "print(f\"s1: {s1}\")\n",
    "\n",
    "# 출력 s1: {1, 2, 3, 5, 6, 7, 10}\n",
    "# 정렬 되는데\n",
    "\n",
    "# 다른 예시로 확인\n",
    "s2 = set(['apple', 'banana', 'cherry'])\n",
    "print(f\"s2: {s2}\")\n",
    "\n",
    "s3 = {1,7,2,6,3,4,5}\n",
    "print(f\"s3: {s3}\")"
   ]
  },
  {
   "cell_type": "code",
   "execution_count": null,
   "id": "4ef3ff20",
   "metadata": {},
   "outputs": [
    {
     "data": {
      "text/plain": [
       "[1, 2, 3, 5, 6, 7, 10]"
      ]
     },
     "execution_count": 3,
     "metadata": {},
     "output_type": "execute_result"
    }
   ],
   "source": [
    "li = list(s1) # 인덱싱하려면 리스트로 바꿔야함.\n",
    "li"
   ]
  },
  {
   "cell_type": "code",
   "execution_count": 22,
   "id": "da3418eb",
   "metadata": {},
   "outputs": [
    {
     "name": "stdout",
     "output_type": "stream",
     "text": [
      "s3: {1, 2, 3, 4, 5, 6, 7}\n",
      "remove 2, 4: {1, 3, 5, 6, 7}\n",
      "add 2: {1, 3, 2, 5, 6, 7}\n",
      "discard 2: {1, 3, 5, 6, 7}\n",
      "update 2, 4, 8: {1, 2, 3, 4, 5, 6, 7, 8}\n"
     ]
    }
   ],
   "source": [
    "s3 = {1,7,2,6,3,4,5}\n",
    "print(f\"s3: {s3}\")\n",
    "s3.remove(2)  # set에 값 추가\n",
    "s3.remove(4)\n",
    "print(f\"remove 2, 4: {s3}\")\n",
    "s3.add(2)\n",
    "print(f\"add 2: {s3}\") # 값 추가하면 자동정렬됨?\n",
    "s3.discard(2)  # set에 값 제거, 세트에 존재하지 않아도 에러가 발생하지 않음\n",
    "print(f\"discard 2: {s3}\")\n",
    "s3.update([2, 4, 8])\n",
    "print(f\"update 2, 4, 8: {s3}\")  # set에 값 추가, 여러개 가능"
   ]
  },
  {
   "cell_type": "code",
   "execution_count": null,
   "id": "f034ca65",
   "metadata": {},
   "outputs": [],
   "source": []
  }
 ],
 "metadata": {
  "kernelspec": {
   "display_name": ".venv",
   "language": "python",
   "name": "python3"
  },
  "language_info": {
   "codemirror_mode": {
    "name": "ipython",
    "version": 3
   },
   "file_extension": ".py",
   "mimetype": "text/x-python",
   "name": "python",
   "nbconvert_exporter": "python",
   "pygments_lexer": "ipython3",
   "version": "3.11.9"
  }
 },
 "nbformat": 4,
 "nbformat_minor": 5
}
