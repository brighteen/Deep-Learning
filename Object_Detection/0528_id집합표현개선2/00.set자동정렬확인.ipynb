{
 "cells": [
  {
   "cell_type": "code",
   "execution_count": 28,
   "id": "a624e89b",
   "metadata": {},
   "outputs": [
    {
     "name": "stdout",
     "output_type": "stream",
     "text": [
      "s1: {1, 2, 3, 4, 5, 6, 7}\n",
      "s2: {1, 2, 3, 4, 5, 6, 7}\n"
     ]
    }
   ],
   "source": [
    "s1 = set([1,7,2,6,3,4,5])\n",
    "print(f\"s1: {s1}\")\n",
    "\n",
    "s2 = {1,7,2,6,3,4,5}\n",
    "print(f\"s2: {s2}\")"
   ]
  },
  {
   "cell_type": "code",
   "execution_count": 3,
   "id": "4ef3ff20",
   "metadata": {},
   "outputs": [
    {
     "data": {
      "text/plain": [
       "[1, 2, 3, 5, 6, 7, 10]"
      ]
     },
     "execution_count": 3,
     "metadata": {},
     "output_type": "execute_result"
    }
   ],
   "source": [
    "li = list(s1) # 인덱싱하려면 리스트로 바꿔야함.\n",
    "li"
   ]
  },
  {
   "cell_type": "code",
   "execution_count": 22,
   "id": "da3418eb",
   "metadata": {},
   "outputs": [
    {
     "name": "stdout",
     "output_type": "stream",
     "text": [
      "s3: {1, 2, 3, 4, 5, 6, 7}\n",
      "remove 2, 4: {1, 3, 5, 6, 7}\n",
      "add 2: {1, 3, 2, 5, 6, 7}\n",
      "discard 2: {1, 3, 5, 6, 7}\n",
      "update 2, 4, 8: {1, 2, 3, 4, 5, 6, 7, 8}\n"
     ]
    }
   ],
   "source": [
    "s3 = {1,7,2,6,3,4,5}\n",
    "print(f\"s3: {s3}\") # s3: {1, 2, 3, 4, 5, 6, 7}\n",
    "s3.remove(2)  # set에 값 추가\n",
    "s3.remove(4)\n",
    "print(f\"remove 2, 4: {s3}\")  # remove 2, 4: {1, 3, 5, 6, 7}\n",
    "s3.add(2)\n",
    "print(f\"add 2: {s3}\") # add 2: {1, 3, 2, 5, 6, 7} 값 추가하면 자동정렬됨?\n",
    "s3.discard(2)  # set에 값 제거, 세트에 존재하지 않아도 에러가 발생하지 않음\n",
    "print(f\"discard 2: {s3}\") # discard 2: {1, 3, 5, 6, 7}\n",
    "s3.update([2, 4, 8])\n",
    "print(f\"update 2, 4, 8: {s3}\")  # update 2, 4, 8: {1, 2, 3, 4, 5, 6, 7, 8} set에 값 추가, 여러개 가능"
   ]
  },
  {
   "cell_type": "code",
   "execution_count": 32,
   "id": "f034ca65",
   "metadata": {},
   "outputs": [
    {
     "name": "stdout",
     "output_type": "stream",
     "text": [
      "{50, 100, 150, 200, 30}\n",
      "{'date', 'banana', 'apple', 'cherry'}\n"
     ]
    }
   ],
   "source": [
    "# 큰 정수들이나 문자열의 경우우\n",
    "s2 = {100, 50, 200, 30, 150}\n",
    "print(s2)  # 정렬x\n",
    "\n",
    "s3 = {'banana', 'apple', 'cherry', 'date'}\n",
    "print(s3)  # 정렬 x"
   ]
  },
  {
   "cell_type": "code",
   "execution_count": null,
   "id": "a946ce8a",
   "metadata": {},
   "outputs": [
    {
     "name": "stdout",
     "output_type": "stream",
     "text": [
      "{50, 20, 40, 10, 30}\n"
     ]
    }
   ],
   "source": [
    "s4 = {30, 20, 10, 40, 50}\n",
    "print(s4)  # 정렬되지 않음"
   ]
  },
  {
   "cell_type": "code",
   "execution_count": 35,
   "id": "eb485155",
   "metadata": {},
   "outputs": [
    {
     "name": "stdout",
     "output_type": "stream",
     "text": [
      "1의 해시값: 1\n",
      "2의 해시값: 2\n",
      "3의 해시값: 3\n",
      "4의 해시값: 4\n",
      "5의 해시값: 5\n",
      "6의 해시값: 6\n",
      "7의 해시값: 7\n",
      "1000의 해시값: 1000\n"
     ]
    }
   ],
   "source": [
    "# 작은 정수들의 해시값을 확인해보세요\n",
    "for i in [1, 2, 3, 4, 5, 6, 7, 1000]:\n",
    "    print(f\"{i}의 해시값: {hash(i)}\")\n",
    "\n",
    "# 결과:\n",
    "# 1의 해시값: 1\n",
    "# 2의 해시값: 2\n",
    "# 3의 해시값: 3\n",
    "# 4의 해시값: 4\n",
    "# 5의 해시값: 5\n",
    "# 6의 해시값: 6\n",
    "# 7의 해시값: 7"
   ]
  },
  {
   "cell_type": "code",
   "execution_count": 38,
   "id": "66d2027b",
   "metadata": {},
   "outputs": [
    {
     "name": "stdout",
     "output_type": "stream",
     "text": [
      "1000의 해시값: 1000\n",
      "10000의 해시값: 10000\n",
      "100000의 해시값: 100000\n",
      "1000000의 해시값: 1000000\n",
      "10000000의 해시값: 10000000\n"
     ]
    }
   ],
   "source": [
    "# 큰 정수들의 해시값 확인\n",
    "for i in [1000, 10000, 100000, 1000000, 10000000]:\n",
    "    print(f\"{i}의 해시값: {hash(i)}\")"
   ]
  },
  {
   "cell_type": "code",
   "execution_count": 43,
   "id": "c46b2834",
   "metadata": {},
   "outputs": [
    {
     "name": "stdout",
     "output_type": "stream",
     "text": [
      "'banana'의 해시값: -1895228202358640659\n",
      "'banana'의 길이: 6\n",
      "banana\n",
      "'apple'의 해시값: 11977018612494302\n",
      "'apple'의 길이: 5\n",
      "apple\n",
      "'cherry'의 해시값: 327380487039012374\n",
      "'cherry'의 길이: 6\n",
      "cherry\n"
     ]
    }
   ],
   "source": [
    "# 문자열의 해시값 확인\n",
    "for s in ['banana', 'apple', 'cherry']:\n",
    "    print(f\"'{s}'의 해시값: {hash(s)}\")\n",
    "    print(f\"'{s}'의 길이: {len(s)}\")  # 문자열의 길이도 확인\n",
    "    print(s)"
   ]
  },
  {
   "cell_type": "code",
   "execution_count": 52,
   "id": "902e0a4c",
   "metadata": {},
   "outputs": [
    {
     "name": "stdout",
     "output_type": "stream",
     "text": [
      "{6000, 50, 999, 300, 190, 110}\n",
      "6000의 해시값: 6000\n",
      "50의 해시값: 50\n",
      "999의 해시값: 999\n",
      "300의 해시값: 300\n",
      "190의 해시값: 190\n",
      "110의 해시값: 110\n"
     ]
    }
   ],
   "source": [
    "# 작은 연속된 정수들의 경우\n",
    "# s1 = {1, 2, 3, 4, 5, 6, 7}\n",
    "s1 = {110, 190, 999, 50, 300, 6000}\n",
    "\n",
    "print(s1)  # {1, 2, 3, 4, 5, 6, 7} - 정렬된 것처럼 보임\n",
    "\n",
    "for i in s1:\n",
    "    print(f\"{i}의 해시값: {hash(i)}\")  # 작은 정수들의 해시값 확인\n",
    "# 해시값에 따라 정렬된 것처럼 보이지만 아님"
   ]
  },
  {
   "cell_type": "code",
   "execution_count": 53,
   "id": "105f2f22",
   "metadata": {},
   "outputs": [
    {
     "name": "stdout",
     "output_type": "stream",
     "text": [
      "{'300', '999', '50', '110', '6000', '190'}\n",
      "300의 해시값: 4767814909710149556\n",
      "999의 해시값: -6279236655147301868\n",
      "50의 해시값: 6054058767335617623\n",
      "110의 해시값: -155129772593480441\n",
      "6000의 해시값: 2302383869976501016\n",
      "190의 해시값: -3547479169575039044\n"
     ]
    }
   ],
   "source": [
    "s1 = {'110', '190', '999', '50', '300', '6000'}\n",
    "\n",
    "print(s1)  # {1, 2, 3, 4, 5, 6, 7} - 정렬된 것처럼 보임\n",
    "\n",
    "for i in s1:\n",
    "    print(f\"{i}의 해시값: {hash(i)}\")  # 작은 정수들의 해시값 확인\n",
    "# 해시값에 따라 정렬된 것처럼 보이지만 아님"
   ]
  },
  {
   "cell_type": "code",
   "execution_count": 60,
   "id": "54651114",
   "metadata": {},
   "outputs": [
    {
     "name": "stdout",
     "output_type": "stream",
     "text": [
      "a: {'banana', 'cherry', 'apple'}\n",
      "banana의 해시값: -1895228202358640659\n",
      "cherry의 해시값: 327380487039012374\n",
      "apple의 해시값: 11977018612494302\n"
     ]
    }
   ],
   "source": [
    "a = set(['cherry', 'banana', 'apple'])\n",
    "print(f\"a: {a}\")  # {'apple', 'banana', 'cherry'}\n",
    "\n",
    "for i in a:\n",
    "    print(f\"{i}의 해시값: {hash(i)}\")  # 문자열의 해시값 확인"
   ]
  },
  {
   "cell_type": "code",
   "execution_count": null,
   "id": "3441a6bc",
   "metadata": {},
   "outputs": [
    {
     "name": "stdout",
     "output_type": "stream",
     "text": [
      "s1: {6000, 50, 999, 300, 190, 110}\n",
      "s2: {6000, 50, 999, 300, 190, 110}\n"
     ]
    }
   ],
   "source": [
    "# 같은 set이라도 생성 방식에 따라 순서가 달라질 수 있음\n",
    "s1 = {110, 190, 999, 50, 300, 6000}\n",
    "s2 = {6000, 300, 50, 999, 190, 110}  # 역순으로 생성\n",
    "\n",
    "print(f\"s1: {s1}\")\n",
    "print(f\"s2: {s2}\") # 같은데?"
   ]
  },
  {
   "cell_type": "code",
   "execution_count": 23,
   "id": "da46ad42",
   "metadata": {},
   "outputs": [
    {
     "name": "stdout",
     "output_type": "stream",
     "text": [
      "s: {1, 2, 3, 4}, type: <class 'set'>\n",
      "s: [1, 2, 3, 4], type: <class 'list'>\n",
      "s: {40, 10, 20, 30}, type: <class 'set'>\n",
      "s: [10, 20, 30, 40], type: <class 'list'>\n",
      "s[1]: 20\n"
     ]
    }
   ],
   "source": [
    "# 만약 진짜 자동정렬이라면 이런 일이 일어나야 함\n",
    "s = {3, 1, 4, 2}\n",
    "print(f\"s: {s}, type: {type(s)}\")  # 항상 {1, 2, 3, 4} - 오름차순으로 정렬\n",
    "s = sorted(s)\n",
    "print(f\"s: {s}, type: {type(s)}\")  # 항상 {1, 2, 3, 4} - 오름차순으로 정렬\n",
    "\n",
    "\n",
    "# 하지만 실제로는...\n",
    "s = {30, 20, 10, 40}\n",
    "print(f\"s: {s}, type: {type(s)}\")  # {40, 10, 20, 30} - 정렬되지 않음!\n",
    "# print(f\"s[1]: {s[1]}\") #  'set' object is not subscriptable\n",
    "\n",
    "s = sorted(s)\n",
    "print(f\"s: {s}, type: {type(s)}\")  # {40, 10, 20, 30} - 정렬되지 않음!\n",
    "print(f\"s[1]: {s[1]}\")"
   ]
  },
  {
   "cell_type": "code",
   "execution_count": 18,
   "id": "1eb80624",
   "metadata": {},
   "outputs": [
    {
     "name": "stdout",
     "output_type": "stream",
     "text": [
      "s1: {6000, 50, 999, 300, 190, 110}, set 메모리 크기: 472 bytes\n",
      "크기 6000: 524504 bytes\n",
      "크기 50: 2264 bytes\n",
      "크기 999: 32984 bytes\n",
      "크기 300: 8408 bytes\n",
      "크기 190: 8408 bytes\n",
      "크기 110: 8408 bytes\n"
     ]
    }
   ],
   "source": [
    "import sys\n",
    "\n",
    "s1 = {110, 190, 999, 50, 300, 6000}\n",
    "print(f\"s1: {s1}, set 메모리 크기: {sys.getsizeof(s1)} bytes\")\n",
    "\n",
    "# 다른 크기의 set들과 비교\n",
    "for size in s1:\n",
    "    s = set(range(size))\n",
    "    print(f\"크기 {size}: {sys.getsizeof(s)} bytes\")"
   ]
  },
  {
   "cell_type": "code",
   "execution_count": 12,
   "id": "e623a838",
   "metadata": {},
   "outputs": [
    {
     "name": "stdout",
     "output_type": "stream",
     "text": [
      "s: {40, 10, 20, 30}, type<class 'set'>\n"
     ]
    }
   ],
   "source": [
    "s = set([30, 20, 10, 40])\n",
    "print(f\"s: {s}, type{type(s)}\")"
   ]
  },
  {
   "cell_type": "code",
   "execution_count": 13,
   "id": "021f0a64",
   "metadata": {},
   "outputs": [
    {
     "data": {
      "text/plain": [
       "[30, 20, 10, 40]"
      ]
     },
     "execution_count": 13,
     "metadata": {},
     "output_type": "execute_result"
    }
   ],
   "source": [
    "s = ([30, 20, 10, 40])\n",
    "s"
   ]
  },
  {
   "cell_type": "code",
   "execution_count": null,
   "id": "4a8f918c",
   "metadata": {},
   "outputs": [],
   "source": [
    "s = "
   ]
  }
 ],
 "metadata": {
  "kernelspec": {
   "display_name": ".venv",
   "language": "python",
   "name": "python3"
  },
  "language_info": {
   "codemirror_mode": {
    "name": "ipython",
    "version": 3
   },
   "file_extension": ".py",
   "mimetype": "text/x-python",
   "name": "python",
   "nbconvert_exporter": "python",
   "pygments_lexer": "ipython3",
   "version": "3.11.9"
  }
 },
 "nbformat": 4,
 "nbformat_minor": 5
}
