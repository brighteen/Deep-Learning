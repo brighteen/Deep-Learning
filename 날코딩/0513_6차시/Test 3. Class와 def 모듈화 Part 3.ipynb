{
 "cells": [
  {
   "attachments": {},
   "cell_type": "markdown",
   "id": "002f6560",
   "metadata": {},
   "source": [
    "# 목표 :\n",
    "###  Class와 def 으로 모듈화된 기계학습 프로세스를 학습 과정까지 구현해본다."
   ]
  },
  {
   "attachments": {
    "image.png": {
     "image/png": "[encoded data removed]"
    }
   },
   "cell_type": "markdown",
   "id": "871ec4fd",
   "metadata": {},
   "source": [
    "# \n",
    "### 4번 문제 : \n",
    "![image.png](attachment:image.png)"
   ]
  },
  {
   "cell_type": "markdown",
   "id": "4e60c31f",
   "metadata": {},
   "source": [
    "#### 4-1번 문제 : 다음을 만족하는 Sigmoid 비선형 변환을 클래스로 설계하세요\n",
    "1. Sigmoid $z = \\frac{1}{1+e^{-y}}$ 기능을 하는 forward 함수 설계\n",
    "2. Sigmoid의 미분 : $\\frac{\\partial{z}}{\\partial{y}} = z(1-z)$ 기능을 하는 backward 함수 설계\n",
    "- 클래스 구현 후 y=0 에 대한 전파 출력값을 출력하세요"
   ]
  },
  {
   "cell_type": "code",
   "execution_count": 1,
   "id": "f246a346",
   "metadata": {},
   "outputs": [
    {
     "name": "stdout",
     "output_type": "stream",
     "text": [
      "z: 0.5\n",
      "z_grad: 0.25\n"
     ]
    }
   ],
   "source": [
    "import numpy as np\n",
    "\n",
    "class Sigmoid:\n",
    "    def __init__(self):\n",
    "        self.out = None\n",
    "\n",
    "    def forward(self, y):\n",
    "        out = 1 / (1 + np.exp(-y)) \n",
    "        self.out = out\n",
    "        return out\n",
    "    \n",
    "    def backward(self, dout=1.0):\n",
    "        dx = dout * self.out * (1.0 - self.out)\n",
    "        return dx\n",
    "    \n",
    "y = 0\n",
    "model = Sigmoid()\n",
    "z = model.forward(y)\n",
    "print(f\"z: {z}\")\n",
    "z_grad = model.backward()\n",
    "print(f\"z_grad: {z_grad}\")\n"
   ]
  },
  {
   "cell_type": "code",
   "execution_count": 2,
   "id": "fe877ffe",
   "metadata": {},
   "outputs": [],
   "source": [
    "class LinearModel:\n",
    "    def __init__(self):\n",
    "        self.w = np.random.randn(1)\n",
    "        self.b = np.zeros(1)\n",
    "        self.x = None # forward에서의 x를 backward에서 갖다 써야하니까 x도 self를 취해줌\n",
    "    \n",
    "    def forward(self, x):\n",
    "        self.x = x\n",
    "        return np.dot(self.w, self.x) + self.b # y = wx+b\n",
    "    \n",
    "    def backward(self, dout):\n",
    "        # print(f'loss: {dout}')\n",
    "        dw = np.dot(dout, self.x)\n",
    "        db = np.dot(dout, 1)\n",
    "        dx = np.dot(dout, self.w)\n",
    "        return dw, db, dx"
   ]
  },
  {
   "cell_type": "code",
   "execution_count": 3,
   "id": "058eabd1",
   "metadata": {},
   "outputs": [],
   "source": [
    "class MeanSquardError:\n",
    "    def __init__(self):\n",
    "        self.y = None\n",
    "        self.t = None\n",
    "\n",
    "    def forward(self, y, t):\n",
    "        self.t = t\n",
    "        self.y = y\n",
    "        return np.dot(0.5, (self.y - self.t)**2) # 0.5(y-t)^2\n",
    "    \n",
    "    def backward(self, dout):\n",
    "        return np.dot((self.y - self.t), dout)"
   ]
  },
  {
   "cell_type": "markdown",
   "id": "16ee7c90",
   "metadata": {},
   "source": [
    "# \n",
    "#### 4-2번 문제 : 앞서 설계한 LinearModel, Sigmoid, MeanSquaredError 클래스를 사용하여 4번 문제와 같이 전파와 역전파 출력값을 과정마다 출력해보세요\n",
    "1. 입력 x = 2\n",
    "2. 정답 t = 1"
   ]
  },
  {
   "cell_type": "code",
   "execution_count": 4,
   "id": "a9e902e4",
   "metadata": {},
   "outputs": [
    {
     "name": "stdout",
     "output_type": "stream",
     "text": [
      "y = [3.52810469]\n",
      "z: [0.97147694]\n",
      "loss: [0.00040678]\n"
     ]
    }
   ],
   "source": [
    "x = 2\n",
    "t = 1\n",
    "np.random.seed(0)\n",
    "model = LinearModel()\n",
    "Non_model = Sigmoid()\n",
    "mse = MeanSquardError()\n",
    "\n",
    "# forward\n",
    "out = model.forward(x) # out = y = wx+b\n",
    "print(f\"y = {out}\") \n",
    "z_out = Non_model.forward(out) # z_out = sigmoid(y)\n",
    "print(f\"z: {z_out}\")\n",
    "out = mse.forward(z_out, t) # out = loss(z-t)^2\n",
    "print(f\"loss: {out}\")"
   ]
  },
  {
   "cell_type": "code",
   "execution_count": 5,
   "id": "fba5e0f2",
   "metadata": {},
   "outputs": [
    {
     "name": "stdout",
     "output_type": "stream",
     "text": [
      "dL/dz: [-0.02852306]\n",
      "dz/dy: [0.02691913]\n",
      "dw: [0.05383827], db: [0.02691913], dx: 0.047486762197966194\n"
     ]
    }
   ],
   "source": [
    "# backward\n",
    "dout = mse.backward(dout=1.0) # dout = z - t\n",
    "print(f\"dL/dz: {dout}\")\n",
    "dout = Non_model.backward(z_out) #(1-z)*z\n",
    "print(f\"dz/dy: {dout}\")\n",
    "dw, db, dout = model.backward(dout)\n",
    "print(f\"dw: {dw}, db: {db}, dx: {dout}\")"
   ]
  },
  {
   "cell_type": "markdown",
   "id": "196e05cf",
   "metadata": {},
   "source": [
    "# \n",
    "#### 4-3번 문제 : 이제 위와 같이 설계된 모델에 대해 100번 경사하강법 학습하는 코드를 작성해보세요.\n",
    "1. 입력 x = 2, 정답 t = 1\n",
    "2. 학습률 = 0.5\n",
    "3. 매 경사하강법마다 예측값과, 손실값 출력"
   ]
  },
  {
   "cell_type": "code",
   "execution_count": 7,
   "id": "b3cfab50",
   "metadata": {},
   "outputs": [
    {
     "name": "stdout",
     "output_type": "stream",
     "text": [
      "[1번째 반복] 예측값 z: [0.97147694], 손실값 loss: [0.00040678]\n",
      "[2번째 반복] 예측값 z: [0.97328372], 손실값 loss: [0.00035688]\n",
      "[3번째 반복] 예측값 z: [0.97488054], 손실값 loss: [0.00031549]\n",
      "[4번째 반복] 예측값 z: [0.9763014], 손실값 loss: [0.00028081]\n",
      "[5번째 반복] 예측값 z: [0.97757343], 손실값 loss: [0.00025148]\n",
      "[6번째 반복] 예측값 z: [0.97871852], 손실값 loss: [0.00022645]\n",
      "[7번째 반복] 예측값 z: [0.97975452], 손실값 loss: [0.00020494]\n",
      "[8번째 반복] 예측값 z: [0.9806961], 손실값 loss: [0.00018632]\n",
      "[9번째 반복] 예측값 z: [0.98155545], 손실값 loss: [0.0001701]\n",
      "[10번째 반복] 예측값 z: [0.98234279], 손실값 loss: [0.00015589]\n",
      "[11번째 반복] 예측값 z: [0.98306668], 손실값 loss: [0.00014337]\n",
      "[12번째 반복] 예측값 z: [0.98373443], 손실값 loss: [0.00013228]\n",
      "[13번째 반복] 예측값 z: [0.98435226], 손실값 loss: [0.00012243]\n",
      "[14번째 반복] 예측값 z: [0.98492551], 손실값 loss: [0.00011362]\n",
      "[15번째 반복] 예측값 z: [0.98545879], 손실값 loss: [0.00010572]\n",
      "[16번째 반복] 예측값 z: [0.98595611], 손실값 loss: [9.86154823e-05]\n",
      "[17번째 반복] 예측값 z: [0.98642094], 손실값 loss: [9.21953742e-05]\n",
      "[18번째 반복] 예측값 z: [0.98685636], 손실값 loss: [8.63776269e-05]\n",
      "[19번째 반복] 예측값 z: [0.98726504], 손실값 loss: [8.10896044e-05]\n",
      "[20번째 반복] 예측값 z: [0.98764935], 손실값 loss: [7.62692485e-05]\n",
      "[21번째 반복] 예측값 z: [0.9880114], 손실값 loss: [7.18632898e-05]\n",
      "[22번째 반복] 예측값 z: [0.98835304], 손실값 loss: [6.78258007e-05]\n",
      "[23번째 반복] 예측값 z: [0.98867595], 손실값 loss: [6.4117018e-05]\n",
      "[24번째 반복] 예측값 z: [0.98898162], 손실값 loss: [6.07023796e-05]\n",
      "[25번째 반복] 예측값 z: [0.98927137], 손실값 loss: [5.75517317e-05]\n",
      "[26번째 반복] 예측값 z: [0.98954642], 손실값 loss: [5.4638673e-05]\n",
      "[27번째 반복] 예측값 z: [0.98980785], 손실값 loss: [5.19400097e-05]\n",
      "[28번째 반복] 예측값 z: [0.99005663], 손실값 loss: [4.94353006e-05]\n",
      "[29번째 반복] 예측값 z: [0.99029366], 손실값 loss: [4.71064752e-05]\n",
      "[30번째 반복] 예측값 z: [0.99051976], 손실값 loss: [4.49375124e-05]\n",
      "[31번째 반복] 예측값 z: [0.99073564], 손실값 loss: [4.29141684e-05]\n",
      "[32번째 반복] 예측값 z: [0.99094199], 손실값 loss: [4.10237461e-05]\n",
      "[33번째 반복] 예측값 z: [0.99113942], 손실값 loss: [3.92548981e-05]\n",
      "[34번째 반복] 예측값 z: [0.9913285], 손실값 loss: [3.75974589e-05]\n",
      "[35번째 반복] 예측값 z: [0.99150973], 손실값 loss: [3.60423005e-05]\n",
      "[36번째 반복] 예측값 z: [0.99168361], 손실값 loss: [3.45812079e-05]\n",
      "[37번째 반복] 예측값 z: [0.99185055], 손실값 loss: [3.32067725e-05]\n",
      "[38번째 반복] 예측값 z: [0.99201097], 손실값 loss: [3.19122987e-05]\n",
      "[39번째 반복] 예측값 z: [0.99216524], 손실값 loss: [3.06917234e-05]\n",
      "[40번째 반복] 예측값 z: [0.99231371], 손실값 loss: [2.95395462e-05]\n",
      "[41번째 반복] 예측값 z: [0.99245669], 손실값 loss: [2.84507673e-05]\n",
      "[42번째 반복] 예측값 z: [0.99259448], 손실값 loss: [2.74208346e-05]\n",
      "[43번째 반복] 예측값 z: [0.99272737], 손실값 loss: [2.64455961e-05]\n",
      "[44번째 반복] 예측값 z: [0.9928556], 손실값 loss: [2.55212589e-05]\n",
      "[45번째 반복] 예측값 z: [0.99297941], 손실값 loss: [2.46443523e-05]\n",
      "[46번째 반복] 예측값 z: [0.99309903], 손실값 loss: [2.38116958e-05]\n",
      "[47번째 반복] 예측값 z: [0.99321467], 손실값 loss: [2.30203702e-05]\n",
      "[48번째 반복] 예측값 z: [0.99332652], 손실값 loss: [2.2267693e-05]\n",
      "[49번째 반복] 예측값 z: [0.99343476], 손실값 loss: [2.15511948e-05]\n",
      "[50번째 반복] 예측값 z: [0.99353957], 손실값 loss: [2.08686003e-05]\n",
      "[51번째 반복] 예측값 z: [0.9936411], 손실값 loss: [2.02178097e-05]\n",
      "[52번째 반복] 예측값 z: [0.99373951], 손실값 loss: [1.95968829e-05]\n",
      "[53번째 반복] 예측값 z: [0.99383493], 손실값 loss: [1.90040252e-05]\n",
      "[54번째 반복] 예측값 z: [0.99392751], 손실값 loss: [1.84375745e-05]\n",
      "[55번째 반복] 예측값 z: [0.99401736], 손실값 loss: [1.78959896e-05]\n",
      "[56번째 반복] 예측값 z: [0.99410461], 손실값 loss: [1.73778399e-05]\n",
      "[57번째 반복] 예측값 z: [0.99418936], 손실값 loss: [1.6881796e-05]\n",
      "[58번째 반복] 예측값 z: [0.99427172], 손실값 loss: [1.64066213e-05]\n",
      "[59번째 반복] 예측값 z: [0.99435179], 손실값 loss: [1.59511642e-05]\n",
      "[60번째 반복] 예측값 z: [0.99442966], 손실값 loss: [1.55143514e-05]\n",
      "[61번째 반복] 예측값 z: [0.99450542], 손실값 loss: [1.50951814e-05]\n",
      "[62번째 반복] 예측값 z: [0.99457917], 손실값 loss: [1.46927191e-05]\n",
      "[63번째 반복] 예측값 z: [0.99465096], 손실값 loss: [1.43060902e-05]\n",
      "[64번째 반복] 예측값 z: [0.99472089], 손실값 loss: [1.39344769e-05]\n",
      "[65번째 반복] 예측값 z: [0.99478903], 손실값 loss: [1.35771133e-05]\n",
      "[66번째 반복] 예측값 z: [0.99485543], 손실값 loss: [1.32332819e-05]\n",
      "[67번째 반복] 예측값 z: [0.99492018], 손실값 loss: [1.29023093e-05]\n",
      "[68번째 반복] 예측값 z: [0.99498332], 손실값 loss: [1.25835638e-05]\n",
      "[69번째 반복] 예측값 z: [0.99504491], 손실값 loss: [1.22764516e-05]\n",
      "[70번째 반복] 예측값 z: [0.99510502], 손실값 loss: [1.19804148e-05]\n",
      "[71번째 반복] 예측값 z: [0.99516369], 손실값 loss: [1.16949282e-05]\n",
      "[72번째 반복] 예측값 z: [0.99522098], 손실값 loss: [1.14194974e-05]\n",
      "[73번째 반복] 예측값 z: [0.99527694], 손실값 loss: [1.11536567e-05]\n",
      "[74번째 반복] 예측값 z: [0.9953316], 손실값 loss: [1.08969669e-05]\n",
      "[75번째 반복] 예측값 z: [0.99538502], 손실값 loss: [1.06490135e-05]\n",
      "[76번째 반복] 예측값 z: [0.99543724], 손실값 loss: [1.04094055e-05]\n",
      "[77번째 반복] 예측값 z: [0.99548829], 손실값 loss: [1.01777731e-05]\n",
      "[78번째 반복] 예측값 z: [0.99553821], 손실값 loss: [9.95376699e-06]\n",
      "[79번째 반복] 예측값 z: [0.99558705], 손실값 loss: [9.73705668e-06]\n",
      "[80번째 반복] 예측값 z: [0.99563484], 손실값 loss: [9.52732935e-06]\n",
      "[81번째 반복] 예측값 z: [0.9956816], 손실값 loss: [9.32428875e-06]\n",
      "[82번째 반복] 예측값 z: [0.99572738], 손실값 loss: [9.12765413e-06]\n",
      "[83번째 반복] 예측값 z: [0.9957722], 손실값 loss: [8.93715934e-06]\n",
      "[84번째 반복] 예측값 z: [0.99581609], 손실값 loss: [8.75255185e-06]\n",
      "[85번째 반복] 예측값 z: [0.99585908], 손실값 loss: [8.57359199e-06]\n",
      "[86번째 반복] 예측값 z: [0.99590121], 손실값 loss: [8.40005213e-06]\n",
      "[87번째 반복] 예측값 z: [0.99594248], 손실값 loss: [8.23171599e-06]\n",
      "[88번째 반복] 예측값 z: [0.99598294], 손실값 loss: [8.06837793e-06]\n",
      "[89번째 반복] 예측값 z: [0.9960226], 손실값 loss: [7.90984239e-06]\n",
      "[90번째 반복] 예측값 z: [0.99606149], 손실값 loss: [7.75592325e-06]\n",
      "[91번째 반복] 예측값 z: [0.99609963], 손실값 loss: [7.60644329e-06]\n",
      "[92번째 반복] 예측값 z: [0.99613704], 손실값 loss: [7.46123374e-06]\n",
      "[93번째 반복] 예측값 z: [0.99617374], 손실값 loss: [7.32013374e-06]\n",
      "[94번째 반복] 예측값 z: [0.99620975], 손실값 loss: [7.18298991e-06]\n",
      "[95번째 반복] 예측값 z: [0.99624509], 손실값 loss: [7.04965599e-06]\n",
      "[96번째 반복] 예측값 z: [0.99627979], 손실값 loss: [6.91999237e-06]\n",
      "[97번째 반복] 예측값 z: [0.99631385], 손실값 loss: [6.79386579e-06]\n",
      "[98번째 반복] 예측값 z: [0.99634729], 손실값 loss: [6.67114897e-06]\n",
      "[99번째 반복] 예측값 z: [0.99638013], 손실값 loss: [6.5517203e-06]\n",
      "[100번째 반복] 예측값 z: [0.99641239], 손실값 loss: [6.43546352e-06]\n"
     ]
    }
   ],
   "source": [
    "x = 2\n",
    "t = 1\n",
    "lr = 0.5\n",
    "\n",
    "np.random.seed(0)\n",
    "model = LinearModel()\n",
    "Non_model = Sigmoid()\n",
    "mse = MeanSquardError()\n",
    "\n",
    "for i in range(0, 100):\n",
    "    # forward\n",
    "    out = model.forward(x) # out = y = wx+b\n",
    "    z_out = Non_model.forward(out) # z_out = sigmoid(y)\n",
    "    out = mse.forward(z_out, t) # out = loss(z-t)^2\n",
    "    print(f\"[{i+1}번째 반복] 예측값 z: {z_out}, 손실값 loss: {out}\")\n",
    "\n",
    "    # backward\n",
    "    dout = mse.backward(dout=1.0) # dout = z - t\n",
    "    dout = Non_model.backward(z_out) #(1-z)*z\n",
    "    dw, db, dout = model.backward(dout)\n",
    "\n",
    "    model.w += np.dot(lr, dw)\n",
    "    model.b += np.dot(lr, db)"
   ]
  },
  {
   "cell_type": "code",
   "execution_count": null,
   "id": "3da010ce",
   "metadata": {},
   "outputs": [],
   "source": []
  }
 ],
 "metadata": {
  "kernelspec": {
   "display_name": ".venv",
   "language": "python",
   "name": "python3"
  },
  "language_info": {
   "codemirror_mode": {
    "name": "ipython",
    "version": 3
   },
   "file_extension": ".py",
   "mimetype": "text/x-python",
   "name": "python",
   "nbconvert_exporter": "python",
   "pygments_lexer": "ipython3",
   "version": "3.11.9"
  }
 },
 "nbformat": 4,
 "nbformat_minor": 5
}
