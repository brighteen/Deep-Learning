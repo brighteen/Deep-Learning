{
 "cells": [
  {
   "cell_type": "markdown",
   "id": "527c75b9",
   "metadata": {},
   "source": [
    "# dictionary"
   ]
  },
  {
   "cell_type": "code",
   "execution_count": 5,
   "id": "0156d222",
   "metadata": {},
   "outputs": [
    {
     "name": "stdout",
     "output_type": "stream",
     "text": [
      "17\n",
      "['A', 'B', 'A', 'C', 'C', 'A', 'A', 'B', 'C', 'A', 'B', 'C', 'B', 'A', 'A', 'A', 'B']\n"
     ]
    }
   ],
   "source": [
    "score_list = ['A', 'B', 'A', 'C', 'C', 'A', 'A', 'B', 'C', 'A', 'B', 'C', 'B', 'A', 'A', 'A', 'B']\n",
    "print(len(score_list))\n",
    "print(score_list)"
   ]
  },
  {
   "cell_type": "markdown",
   "id": "f1f708eb",
   "metadata": {},
   "source": [
    "#### 문제 : 8번째 학생의 성적을 출력해보세요"
   ]
  },
  {
   "cell_type": "code",
   "execution_count": 7,
   "id": "337775f5",
   "metadata": {},
   "outputs": [
    {
     "data": {
      "text/plain": [
       "['A', 'B', 'C', 'B', 'A', 'A', 'A', 'B']"
      ]
     },
     "execution_count": 7,
     "metadata": {},
     "output_type": "execute_result"
    }
   ],
   "source": [
    "score_list[9:]"
   ]
  },
  {
   "cell_type": "code",
   "execution_count": 8,
   "id": "6dfc52eb",
   "metadata": {},
   "outputs": [
    {
     "name": "stdout",
     "output_type": "stream",
     "text": [
      "A\n"
     ]
    }
   ],
   "source": [
    "#### 문제 : 12번째 학생의 성적을 A로 바꿔주세요\n",
    "score_list[11] = 'A'\n",
    "print(score_list[11])"
   ]
  },
  {
   "cell_type": "code",
   "execution_count": 11,
   "id": "3a78aa32",
   "metadata": {},
   "outputs": [
    {
     "name": "stdout",
     "output_type": "stream",
     "text": [
      "['A', 'B', 'A', 'B', 'A', 'A', 'A', 'B']\n"
     ]
    }
   ],
   "source": [
    "print(score_list[9:])"
   ]
  },
  {
   "cell_type": "code",
   "execution_count": 14,
   "id": "852c8048",
   "metadata": {},
   "outputs": [
    {
     "data": {
      "text/plain": [
       "{'a', 'b', 'c'}"
      ]
     },
     "execution_count": 14,
     "metadata": {},
     "output_type": "execute_result"
    }
   ],
   "source": [
    "b = {'a', 'b', 'c'}\n",
    "b.add('c')\n",
    "b"
   ]
  },
  {
   "cell_type": "code",
   "execution_count": null,
   "id": "fc386b16",
   "metadata": {},
   "outputs": [],
   "source": []
  }
 ],
 "metadata": {
  "kernelspec": {
   "display_name": ".venv",
   "language": "python",
   "name": "python3"
  },
  "language_info": {
   "codemirror_mode": {
    "name": "ipython",
    "version": 3
   },
   "file_extension": ".py",
   "mimetype": "text/x-python",
   "name": "python",
   "nbconvert_exporter": "python",
   "pygments_lexer": "ipython3",
   "version": "3.11.9"
  }
 },
 "nbformat": 4,
 "nbformat_minor": 5
}
