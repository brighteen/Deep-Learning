{
 "cells": [
  {
   "cell_type": "code",
   "execution_count": 2,
   "id": "8c4db437",
   "metadata": {},
   "outputs": [],
   "source": [
    "import numpy as np\n"
   ]
  },
  {
   "cell_type": "code",
   "execution_count": 3,
   "id": "e56fd99d",
   "metadata": {},
   "outputs": [
    {
     "name": "stdout",
     "output_type": "stream",
     "text": [
      "[z] : [1 1], shape: (2,)\n",
      "[z.T] : [1 1], shape: (2,)\n",
      "[reshape_z1] : [[1 1]], shape: (1, 2)\n",
      "[reshape_z2] : [[1 1]], shape: (1, 2)\n",
      "[[ True  True]]\n",
      "reshape_z1 == reshape_z2\n",
      "\n",
      "[c] : [[1]\n",
      " [1]], shape: (2, 1)\n"
     ]
    }
   ],
   "source": [
    "\n",
    "z = np.array([1,1])\n",
    "print(f\"[z] : {z}, shape: {np.shape(z)}\") # 1행 2열\n",
    "print(f\"[z.T] : {z.T}, shape: {np.shape(z.T)}\") # 2행 1열\n",
    "reshape_z1 = np.reshape(z, (1, 2)) # 명시적으로 1행 2열 변환\n",
    "print(f\"[reshape_z1] : {reshape_z1}, shape: {np.shape(reshape_z1)}\") # 1행 2열\n",
    "reshape_z2 = np.reshape(z, (1,-1)) # \n",
    "print(f\"[reshape_z2] : {reshape_z2}, shape: {np.shape(reshape_z2)}\") # 1행 2열\n",
    "\n",
    "print(reshape_z1 == reshape_z2) # True\n",
    "if np.array_equal(reshape_z1, reshape_z2): # \n",
    "    print(\"reshape_z1 == reshape_z2\")\n",
    "else:\n",
    "    print(\"reshape_z1 != reshape_z2\")\n",
    "\n",
    "c = np.reshape(z, (2,1))\n",
    "print(f\"\\n[c] : {c}, shape: {np.shape(c)}\") # 2행 1열"
   ]
  },
  {
   "cell_type": "code",
   "execution_count": 16,
   "id": "62f7c010",
   "metadata": {},
   "outputs": [
    {
     "name": "stdout",
     "output_type": "stream",
     "text": [
      "[x] : [ 0  1  2  3  4  5  6  7  8  9 10 11], shape: (12,)\n"
     ]
    }
   ],
   "source": [
    "x = np.arange(12)# 2행 2열\n",
    "print(f\"[x] : {x}, shape: {np.shape(x)}\")"
   ]
  },
  {
   "cell_type": "code",
   "execution_count": null,
   "id": "c600ba93",
   "metadata": {},
   "outputs": [
    {
     "data": {
      "text/plain": [
       "array([[ 0,  1,  2,  3,  4,  5],\n",
       "       [ 6,  7,  8,  9, 10, 11]])"
      ]
     },
     "execution_count": 23,
     "metadata": {},
     "output_type": "execute_result"
    }
   ],
   "source": [
    "y = x.reshape(1, -3)\n",
    "y"
   ]
  },
  {
   "cell_type": "code",
   "execution_count": 18,
   "id": "085a4aea",
   "metadata": {},
   "outputs": [
    {
     "data": {
      "text/plain": [
       "array([[ 0,  1],\n",
       "       [ 2,  3],\n",
       "       [ 4,  5],\n",
       "       [ 6,  7],\n",
       "       [ 8,  9],\n",
       "       [10, 11]])"
      ]
     },
     "execution_count": 18,
     "metadata": {},
     "output_type": "execute_result"
    }
   ],
   "source": [
    "z = x.reshape(-1, 2)\n",
    "z"
   ]
  },
  {
   "cell_type": "code",
   "execution_count": 39,
   "id": "207d547a",
   "metadata": {},
   "outputs": [
    {
     "data": {
      "text/plain": [
       "((2, 3), (3, 2))"
      ]
     },
     "execution_count": 39,
     "metadata": {},
     "output_type": "execute_result"
    }
   ],
   "source": [
    "x.shape, x.T.shape"
   ]
  },
  {
   "cell_type": "code",
   "execution_count": 40,
   "id": "570c42c6",
   "metadata": {},
   "outputs": [
    {
     "data": {
      "text/plain": [
       "array([[ 5, 14],\n",
       "       [14, 50]])"
      ]
     },
     "execution_count": 40,
     "metadata": {},
     "output_type": "execute_result"
    }
   ],
   "source": [
    "x@x.T"
   ]
  },
  {
   "cell_type": "code",
   "execution_count": 41,
   "id": "ea16bd30",
   "metadata": {},
   "outputs": [
    {
     "data": {
      "text/plain": [
       "array([[0, 3],\n",
       "       [1, 4],\n",
       "       [2, 5]])"
      ]
     },
     "execution_count": 41,
     "metadata": {},
     "output_type": "execute_result"
    }
   ],
   "source": [
    "x.T"
   ]
  },
  {
   "cell_type": "code",
   "execution_count": 43,
   "id": "71717bb4",
   "metadata": {},
   "outputs": [
    {
     "data": {
      "text/plain": [
       "array([0.])"
      ]
     },
     "execution_count": 43,
     "metadata": {},
     "output_type": "execute_result"
    }
   ],
   "source": [
    "t = np.zeros(1)\n",
    "t"
   ]
  },
  {
   "cell_type": "code",
   "execution_count": 44,
   "id": "6ff1f3bc",
   "metadata": {},
   "outputs": [
    {
     "data": {
      "text/plain": [
       "(1,)"
      ]
     },
     "execution_count": 44,
     "metadata": {},
     "output_type": "execute_result"
    }
   ],
   "source": [
    "t.shape"
   ]
  },
  {
   "cell_type": "code",
   "execution_count": 49,
   "id": "6f282fe8",
   "metadata": {},
   "outputs": [
    {
     "data": {
      "text/plain": [
       "(1, 1)"
      ]
     },
     "execution_count": 49,
     "metadata": {},
     "output_type": "execute_result"
    }
   ],
   "source": [
    "t = np.reshape(t, (1,-1))\n",
    "t.shape"
   ]
  },
  {
   "cell_type": "code",
   "execution_count": 24,
   "id": "ae0b6097",
   "metadata": {},
   "outputs": [
    {
     "name": "stdout",
     "output_type": "stream",
     "text": [
      "원본 배열 x:\n",
      "[ 0  1  2  3  4  5  6  7  8  9 10 11]\n",
      "x.shape: (12,)\n",
      "\n",
      "x.reshape(1, -2):\n",
      "[[ 0  1  2  3  4  5  6  7  8  9 10 11]]\n",
      "shape: (1, 12)\n",
      "\n",
      "x.reshape(1, -3):\n",
      "[[ 0  1  2  3  4  5  6  7  8  9 10 11]]\n",
      "shape: (1, 12)\n",
      "\n",
      "x.reshape(1, -4):\n",
      "[[ 0  1  2  3  4  5  6  7  8  9 10 11]]\n",
      "shape: (1, 12)\n",
      "\n",
      "x.reshape(-2, 6):\n",
      "[[ 0  1  2  3  4  5]\n",
      " [ 6  7  8  9 10 11]]\n",
      "shape: (2, 6)\n"
     ]
    }
   ],
   "source": [
    "# -2, -3, -4 등 다양한 음수 값으로 reshape 테스트\n",
    "print(\"원본 배열 x:\")\n",
    "print(x)\n",
    "print(f\"x.shape: {x.shape}\")\n",
    "\n",
    "try:\n",
    "    print(\"\\nx.reshape(1, -2):\")\n",
    "    print(x.reshape(1, -2))\n",
    "    print(f\"shape: {x.reshape(1, -2).shape}\")\n",
    "except Exception as e:\n",
    "    print(f\"오류: {e}\")\n",
    "\n",
    "try:\n",
    "    print(\"\\nx.reshape(1, -3):\")\n",
    "    print(x.reshape(1, -3))\n",
    "    print(f\"shape: {x.reshape(1, -3).shape}\")\n",
    "except Exception as e:\n",
    "    print(f\"오류: {e}\")\n",
    "    \n",
    "try:\n",
    "    print(\"\\nx.reshape(1, -4):\")\n",
    "    print(x.reshape(1, -4))\n",
    "    print(f\"shape: {x.reshape(1, -4).shape}\")\n",
    "except Exception as e:\n",
    "    print(f\"오류: {e}\")\n",
    "\n",
    "try:\n",
    "    print(\"\\nx.reshape(-2, 6):\")\n",
    "    print(x.reshape(-2, 6))\n",
    "    print(f\"shape: {x.reshape(-2, 6).shape}\")\n",
    "except Exception as e:\n",
    "    print(f\"오류: {e}\")"
   ]
  }
 ],
 "metadata": {
  "kernelspec": {
   "display_name": ".venv",
   "language": "python",
   "name": "python3"
  },
  "language_info": {
   "codemirror_mode": {
    "name": "ipython",
    "version": 3
   },
   "file_extension": ".py",
   "mimetype": "text/x-python",
   "name": "python",
   "nbconvert_exporter": "python",
   "pygments_lexer": "ipython3",
   "version": "3.11.9"
  }
 },
 "nbformat": 4,
 "nbformat_minor": 5
}
