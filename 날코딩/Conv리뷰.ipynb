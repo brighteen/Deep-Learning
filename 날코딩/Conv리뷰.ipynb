{
 "cells": [
  {
   "cell_type": "code",
   "execution_count": 2,
   "id": "7aebc357",
   "metadata": {},
   "outputs": [
    {
     "name": "stdout",
     "output_type": "stream",
     "text": [
      "Train images shape: (60000, 28, 28)\n",
      "Train labels shape: (60000,)\n",
      "Test images shape: (10000, 28, 28)\n",
      "Test labels shape: (10000,)\n"
     ]
    }
   ],
   "source": [
    "import tensorflow as tf\n",
    "import numpy as np\n",
    "\n",
    "# Load the MNIST dataset\n",
    "(X_train, y_train), (X_test, y_test) = tf.keras.datasets.mnist.load_data()\n",
    "X_train = X_train.astype(np.float64)\n",
    "X_test = X_test.astype(np.float64)\n",
    "\n",
    "print(\"Train images shape:\", X_train.shape)\n",
    "print(\"Train labels shape:\", y_train.shape)\n",
    "print(\"Test images shape:\", X_test.shape)\n",
    "print(\"Test labels shape:\", y_test.shape)"
   ]
  },
  {
   "cell_type": "code",
   "execution_count": 9,
   "id": "a9dd91ad",
   "metadata": {},
   "outputs": [
    {
     "data": {
      "text/plain": [
       "(28, 28)"
      ]
     },
     "execution_count": 9,
     "metadata": {},
     "output_type": "execute_result"
    }
   ],
   "source": [
    "np.shape(X_train[0])"
   ]
  },
  {
   "cell_type": "code",
   "execution_count": 10,
   "id": "99e54dfc",
   "metadata": {},
   "outputs": [
    {
     "data": {
      "text/plain": [
       "numpy.ndarray"
      ]
     },
     "execution_count": 10,
     "metadata": {},
     "output_type": "execute_result"
    }
   ],
   "source": [
    "type(X_train[0])"
   ]
  },
  {
   "cell_type": "code",
   "execution_count": 31,
   "id": "1cbd94b4",
   "metadata": {},
   "outputs": [
    {
     "data": {
      "text/plain": [
       "(28, 28)"
      ]
     },
     "execution_count": 31,
     "metadata": {},
     "output_type": "execute_result"
    }
   ],
   "source": [
    "x = np.array(X_train[0])\n",
    "np.shape(x)"
   ]
  },
  {
   "cell_type": "code",
   "execution_count": 32,
   "id": "9d3fb3e3",
   "metadata": {},
   "outputs": [
    {
     "name": "stdout",
     "output_type": "stream",
     "text": [
      "Reshaped x: (1, 1, 28, 28)\n"
     ]
    }
   ],
   "source": [
    "\n",
    "# x = x.reshape((1,1,X_train[0].shape[0], X_train[0].shape[1]))\n",
    "x = x[np.newaxis, np.newaxis, :, :]  # (1, 1, 28, 28)\n",
    "print(\"Reshaped x:\", np.shape(x))"
   ]
  },
  {
   "cell_type": "code",
   "execution_count": 29,
   "id": "88e67f7a",
   "metadata": {},
   "outputs": [
    {
     "name": "stdout",
     "output_type": "stream",
     "text": [
      "a: [1 2 3 4], shape a: (4,)\n",
      "Type of a: <class 'numpy.ndarray'>\n",
      "\n",
      "Reshaped 1 row a: [[1 2 3 4]], shape row_a: (1, 4)\n",
      "\n",
      "Reshaped 2 row a: [[1 2 3 4]], shape row_a: (1, 4)\n",
      "\n",
      "Reshaped 1 col a: \n",
      "[[1]\n",
      " [2]\n",
      " [3]\n",
      " [4]], shape col_a: (4, 1)\n",
      "\n",
      "Reshaped 2 col a: \n",
      "[[1]\n",
      " [2]\n",
      " [3]\n",
      " [4]], shape col_a: (4, 1)\n"
     ]
    }
   ],
   "source": [
    "a = np.array([1, 2, 3, 4])\n",
    "print(f\"a: {a}, shape a: {np.shape(a)}\")\n",
    "print(f\"Type of a: {type(a)}\")\n",
    "row_a = a[np.newaxis, :]\n",
    "print(f\"\\nReshaped 1 row a: {row_a}, shape row_a: {np.shape(row_a)}\")\n",
    "row_a = a.reshape((1, -1))  # Reshape to a row vector\n",
    "print(f\"\\nReshaped 2 row a: {row_a}, shape row_a: {np.shape(row_a)}\")\n",
    "\n",
    "\n",
    "col_a = a[:, np.newaxis]\n",
    "print(f\"\\nReshaped 1 col a: \\n{col_a}, shape col_a: {np.shape(col_a)}\")\n",
    "col_a = a.reshape((-1, 1))  # Reshape to a column vector\n",
    "print(f\"\\nReshaped 2 col a: \\n{col_a}, shape col_a: {np.shape(col_a)}\")"
   ]
  },
  {
   "cell_type": "code",
   "execution_count": 27,
   "id": "83357b55",
   "metadata": {},
   "outputs": [
    {
     "name": "stdout",
     "output_type": "stream",
     "text": [
      "b: \n",
      "[[1 2 3 4]], shape b: (1, 4)\n",
      "Reshaped b_col: \n",
      "[[1]\n",
      " [2]\n",
      " [3]\n",
      " [4]], shape b_col: (4, 1)\n",
      "Reshaped b_col: \n",
      "[[[1 2 3 4]]], shape b_col: (1, 1, 4)\n"
     ]
    }
   ],
   "source": [
    "b = np.array([[1,2,3,4]])\n",
    "print(f\"b: \\n{b}, shape b: {np.shape(b)}\")\n",
    "# Reshape b to a column vector\n",
    "b_col = b.reshape((-1, 1))  # Reshape to a column vector\n",
    "print(f\"Reshaped b_col: \\n{b_col}, shape b_col: {np.shape(b_col)}\")\n",
    "b_col = b[:, np.newaxis]  # Another way to reshape to a column vector\n",
    "print(f\"Reshaped b_col: \\n{b_col}, shape b_col: {np.shape(b_col)}\")\n",
    "\n",
    "# # Reshape b to a row vector\n",
    "# b_row = b.reshape((1, -1))  # Reshape to a row vector"
   ]
  },
  {
   "cell_type": "code",
   "execution_count": 33,
   "id": "09ded837",
   "metadata": {},
   "outputs": [],
   "source": [
    "# 2. 필터 정의\n",
    "horizontal_filter = np.array([[-1, -1, -1],\n",
    "                              [ 2,  2,  2],\n",
    "                              [-1, -1, -1]])\n",
    "vertical_filter = np.array([[-1, 2, -1],\n",
    "                            [-1, 2, -1],\n",
    "                            [-1, 2, -1]])"
   ]
  },
  {
   "cell_type": "code",
   "execution_count": 34,
   "id": "affd568f",
   "metadata": {},
   "outputs": [
    {
     "name": "stdout",
     "output_type": "stream",
     "text": [
      "W: \n",
      "[[[-1 -1 -1]\n",
      "  [ 2  2  2]\n",
      "  [-1 -1 -1]]\n",
      "\n",
      " [[-1  2 -1]\n",
      "  [-1  2 -1]\n",
      "  [-1  2 -1]]], shape W: (2, 3, 3)\n",
      "Type of W: <class 'numpy.ndarray'>\n"
     ]
    }
   ],
   "source": [
    "W = np.stack([horizontal_filter, vertical_filter])  # (2, 3, 3)\n",
    "print(f\"W: \\n{W}, shape W: {np.shape(W)}\")\n",
    "print(f\"Type of W: {type(W)}\")"
   ]
  },
  {
   "cell_type": "code",
   "execution_count": 35,
   "id": "49593ed5",
   "metadata": {},
   "outputs": [
    {
     "name": "stdout",
     "output_type": "stream",
     "text": [
      "Reshaped W: \n",
      "[[[[-1 -1 -1]\n",
      "   [ 2  2  2]\n",
      "   [-1 -1 -1]]]\n",
      "\n",
      "\n",
      " [[[-1  2 -1]\n",
      "   [-1  2 -1]\n",
      "   [-1  2 -1]]]], shape W: (2, 1, 3, 3)\n"
     ]
    }
   ],
   "source": [
    "W = W[:, np.newaxis, :, :]  # (2, 1, 3, 3)\n",
    "print(f\"Reshaped W: \\n{W}, shape W: {np.shape(W)}\")"
   ]
  },
  {
   "cell_type": "code",
   "execution_count": 37,
   "id": "d14cb698",
   "metadata": {},
   "outputs": [
    {
     "name": "stdout",
     "output_type": "stream",
     "text": [
      "b: [0. 0.], shape b: (2,)\n"
     ]
    }
   ],
   "source": [
    "b = np.zeros(2)\n",
    "print(f\"b: {b}, shape b: {np.shape(b)}\")"
   ]
  },
  {
   "cell_type": "code",
   "execution_count": 38,
   "id": "e3e8e38a",
   "metadata": {},
   "outputs": [
    {
     "name": "stdout",
     "output_type": "stream",
     "text": [
      "합성곱 결과 shape: (1, 2, 28, 28)\n",
      "가로선 필터 결과 (0번):\n",
      "[[   0.    0.    0.    0.    0.    0.    0.    0.    0.    0.    0.    0.\n",
      "     0.    0.    0.    0.    0.    0.    0.    0.    0.    0.    0.    0.\n",
      "     0.    0.    0.    0.]\n",
      " [   0.    0.    0.    0.    0.    0.    0.    0.    0.    0.    0.    0.\n",
      "     0.    0.    0.    0.    0.    0.    0.    0.    0.    0.    0.    0.\n",
      "     0.    0.    0.    0.]\n",
      " [   0.    0.    0.    0.    0.    0.    0.    0.    0.    0.    0.    0.\n",
      "     0.    0.    0.    0.    0.    0.    0.    0.    0.    0.    0.    0.\n",
      "     0.    0.    0.    0.]\n",
      " [   0.    0.    0.    0.    0.    0.    0.    0.    0.    0.    0.    0.\n",
      "     0.    0.    0.    0.    0.    0.    0.    0.    0.    0.    0.    0.\n",
      "     0.    0.    0.    0.]\n",
      " [   0.    0.    0.    0.    0.    0.    0.    0.    0.    0.    0.   -3.\n",
      "   -21.  -39.  -54. -162. -280. -437. -337. -367. -447. -668. -629. -374.\n",
      "  -127.    0.    0.    0.]\n",
      " [   0.    0.    0.    0.    0.    0.    0.  -30.  -66. -160. -284. -412.\n",
      "  -535. -598. -651. -435. -199.  143.   24.   84.  227.  646.  757.  489.\n",
      "   190.    0.    0.    0.]\n",
      " [   0.    0.    0.    0.    0.    0.  -49. -227. -408. -424. -191.   74.\n",
      "   374.  554.  705.  597.  481.  428.  537.  676.  667.  535.  278.  105.\n",
      "     1.    0.    0.    0.]\n",
      " [   0.    0.    0.    0.    0.    0.   80.  307.  524.  603.  475.  341.\n",
      "   182.  138.  126.  132.   85.  -25.  -39. -136. -227. -336. -311. -181.\n",
      "   -64.    0.    0.    0.]\n",
      " [   0.    0.    0.    0.    0.    0.  -13.  107.  204.  363.  243.  146.\n",
      "    48.  180.  291.  441.  386.  182.  -98. -257. -220. -177.  -95.  -39.\n",
      "     0.    0.    0.    0.]\n",
      " [   0.    0.    0.    0.    0.    0.  -18.  -77.  -32.  -54.  104.   59.\n",
      "   166. -109. -291. -519. -276.  -94.   67.    0.    0.    0.    0.    0.\n",
      "     0.    0.    0.    0.]\n",
      " [   0.    0.    0.    0.    0.    0.    0.  -80. -208. -313. -317. -189.\n",
      "  -299. -228. -228.  -56. -197. -197. -154.    0.    0.    0.    0.    0.\n",
      "     0.    0.    0.    0.]\n",
      " [   0.    0.    0.    0.    0.    0.    0.    0.  -14.  -15.   98.  175.\n",
      "   213.   34.  -29.  -66.    0.    0.    0.    0.    0.    0.    0.    0.\n",
      "     0.    0.    0.    0.]\n",
      " [   0.    0.    0.    0.    0.    0.    0.    0.    0.    0. -117.  -25.\n",
      "    50.   80. -172. -355. -269. -109.   -1.    0.    0.    0.    0.    0.\n",
      "     0.    0.    0.    0.]\n",
      " [   0.    0.    0.    0.    0.    0.    0.    0.    0.    0.  -11. -131.\n",
      "    17.  168.  355.  170.  -87. -179. -142.  -25.    0.    0.    0.    0.\n",
      "     0.    0.    0.    0.]\n",
      " [   0.    0.    0.    0.    0.    0.    0.    0.    0.    0.    0.  -35.\n",
      "  -114.   96.  291.  515.  289.   29. -143. -127.  -27.    0.    0.    0.\n",
      "     0.    0.    0.    0.]\n",
      " [   0.    0.    0.    0.    0.    0.    0.    0.    0.    0.    0.    0.\n",
      "   -81. -231. -128.  113.  398.  317.   24. -111. -133.    0.    0.    0.\n",
      "     0.    0.    0.    0.]\n",
      " [   0.    0.    0.    0.    0.    0.    0.    0.    0.    0.    0.    0.\n",
      "     0.  -45. -199. -266. -219.   38.  203.  137.   34.  -64.    0.    0.\n",
      "     0.    0.    0.    0.]\n",
      " [   0.    0.    0.    0.    0.    0.    0.    0.    0.    0.    0.    0.\n",
      "     0.  -46. -192. -468. -429. -283.   97.  230.  230.  126.    0.    0.\n",
      "     0.    0.    0.    0.]\n",
      " [   0.    0.    0.    0.    0.    0.    0.    0.    0.    0.    0.  -39.\n",
      "  -187. -324. -278.  -17.  124.  120.  -10.  -74.  -77.  -60.    0.    0.\n",
      "     0.    0.    0.    0.]\n",
      " [   0.    0.    0.    0.    0.    0.    0.    0.    0.  -24. -138. -281.\n",
      "  -214.   59.  325.  352.  245.  291.  378.  324.  155.   -2.    0.    0.\n",
      "     0.    0.    0.    0.]\n",
      " [   0.    0.    0.    0.    0.    0.    0.  -23.  -89. -254. -256.  -40.\n",
      "   230.  279.  184.  251.  374.  225. -129. -276. -182.    0.    0.    0.\n",
      "     0.    0.    0.    0.]\n",
      " [   0.    0.    0.    0.    0.  -18. -189. -362. -465. -145.  167.  320.\n",
      "   229.  263.  365.  216. -154. -366. -275.  -78.    0.    0.    0.    0.\n",
      "     0.    0.    0.    0.]\n",
      " [   0.    0.    0.  -55. -227. -417. -273.   61.  438.  389.  236.  169.\n",
      "   255.  153. -147. -354. -263.  -83.   -2.    0.    0.    0.    0.    0.\n",
      "     0.    0.    0.    0.]\n",
      " [   0.    0.    0.  -26.   65.  246.  354.  338.  275.  314.  458.  353.\n",
      "    59. -240. -262.  -89.   -9.    0.    0.    0.    0.    0.    0.    0.\n",
      "     0.    0.    0.    0.]\n",
      " [   0.    0.    0.  217.  551.  831.  867.  704.  441.  199. -184. -334.\n",
      "  -356. -144.  -11.    0.    0.    0.    0.    0.    0.    0.    0.    0.\n",
      "     0.    0.    0.    0.]\n",
      " [   0.    0.    0. -136. -389. -642. -759. -718. -600. -479. -283. -148.\n",
      "   -16.    0.    0.    0.    0.    0.    0.    0.    0.    0.    0.    0.\n",
      "     0.    0.    0.    0.]\n",
      " [   0.    0.    0.    0.    0.    0.    0.    0.    0.    0.    0.    0.\n",
      "     0.    0.    0.    0.    0.    0.    0.    0.    0.    0.    0.    0.\n",
      "     0.    0.    0.    0.]\n",
      " [   0.    0.    0.    0.    0.    0.    0.    0.    0.    0.    0.    0.\n",
      "     0.    0.    0.    0.    0.    0.    0.    0.    0.    0.    0.    0.\n",
      "     0.    0.    0.    0.]]\n",
      "세로선 필터 결과 (1번):\n",
      "[[   0.    0.    0.    0.    0.    0.    0.    0.    0.    0.    0.    0.\n",
      "     0.    0.    0.    0.    0.    0.    0.    0.    0.    0.    0.    0.\n",
      "     0.    0.    0.    0.]\n",
      " [   0.    0.    0.    0.    0.    0.    0.    0.    0.    0.    0.    0.\n",
      "     0.    0.    0.    0.    0.    0.    0.    0.    0.    0.    0.    0.\n",
      "     0.    0.    0.    0.]\n",
      " [   0.    0.    0.    0.    0.    0.    0.    0.    0.    0.    0.    0.\n",
      "     0.    0.    0.    0.    0.    0.    0.    0.    0.    0.    0.    0.\n",
      "     0.    0.    0.    0.]\n",
      " [   0.    0.    0.    0.    0.    0.    0.    0.    0.    0.    0.    0.\n",
      "     0.    0.    0.    0.    0.    0.    0.    0.    0.    0.    0.    0.\n",
      "     0.    0.    0.    0.]\n",
      " [   0.    0.    0.    0.    0.    0.    0.    0.    0.    0.    0.   -3.\n",
      "   -12.   15.    0. -108.   98.  -29.  188. -289.   51.   97.  112.    7.\n",
      "  -127.    0.    0.    0.]\n",
      " [   0.    0.    0.    0.    0.    0.    0.  -30.   24.  -52.   -2.   41.\n",
      "   -79.   98.    0. -108.   98.   -1.  213. -423.  143.  133.  196.  -60.\n",
      "  -191.    0.    0.    0.]\n",
      " [   0.    0.    0.    0.    0.    0.  -49. -170.  198.  -37.   -2.   41.\n",
      "   -79.   98.    0. -108.  100.  155.   66. -434.  169.  124.  218.  -99.\n",
      "  -191.    0.    0.    0.]\n",
      " [   0.    0.    0.    0.    0.    0.  -67. -353.  365.   -3.   -2.   44.\n",
      "   -67.  138.  -39.  -81.   73.  419. -363. -145.  118.   27.  106. -106.\n",
      "   -64.    0.    0.    0.]\n",
      " [   0.    0.    0.    0.    0.    0.  -67. -403.  345.  174. -195.  146.\n",
      "    48.  201. -222. -135.    5.  656. -542.  -11.   26.   -9.   22.  -39.\n",
      "     0.    0.    0.    0.]\n",
      " [   0.    0.    0.    0.    0.    0.  -18. -263.  157.  186. -361.  200.\n",
      "   310.  128. -312. -135.    3.  500. -395.    0.    0.    0.    0.    0.\n",
      "     0.    0.    0.    0.]\n",
      " [   0.    0.    0.    0.    0.    0.    0.  -80.  -10.  152. -500.  225.\n",
      "   487.  198. -459.  -56.  -68.  265. -154.    0.    0.    0.    0.    0.\n",
      "     0.    0.    0.    0.]\n",
      " [   0.    0.    0.    0.    0.    0.    0.    0.  -14.   27. -316.  -89.\n",
      "   555.  298. -389.  -72.    0.    0.    0.    0.    0.    0.    0.    0.\n",
      "     0.    0.    0.    0.]\n",
      " [   0.    0.    0.    0.    0.    0.    0.    0.    0.    0. -150. -178.\n",
      "   122.  593. -250.  -85.   55. -106.   -1.    0.    0.    0.    0.    0.\n",
      "     0.    0.    0.    0.]\n",
      " [   0.    0.    0.    0.    0.    0.    0.    0.    0.    0.  -11. -203.\n",
      "  -136.  390.   82.  -70.  189. -146.  -70.  -25.    0.    0.    0.    0.\n",
      "     0.    0.    0.    0.]\n",
      " [   0.    0.    0.    0.    0.    0.    0.    0.    0.    0.    0.  -35.\n",
      "  -252.   99.   99.   74.  256.  -43.  -50. -121.  -27.    0.    0.    0.\n",
      "     0.    0.    0.    0.]\n",
      " [   0.    0.    0.    0.    0.    0.    0.    0.    0.    0.    0.    0.\n",
      "   -81. -123.   34.   26.  119.  221.   18.    0. -214.    0.    0.    0.\n",
      "     0.    0.    0.    0.]\n",
      " [   0.    0.    0.    0.    0.    0.    0.    0.    0.    0.    0.    0.\n",
      "     0.  -45. -112.   13. -264.  506.   95.  206. -335.  -64.    0.    0.\n",
      "     0.    0.    0.    0.]\n",
      " [   0.    0.    0.    0.    0.    0.    0.    0.    0.    0.    0.    0.\n",
      "     0.  -46.  -54.  -30. -348.  473.  121.  461. -511.  -66.    0.    0.\n",
      "     0.    0.    0.    0.]\n",
      " [   0.    0.    0.    0.    0.    0.    0.    0.    0.    0.    0.  -39.\n",
      "   -70.  -18.   19.   55. -266.  318.  119.  454. -506.  -66.    0.    0.\n",
      "     0.    0.    0.    0.]\n",
      " [   0.    0.    0.    0.    0.    0.    0.    0.    0.  -24.  -66.  -56.\n",
      "     5.   14.   19.   55.   35.  144.   66.  195. -385.   -2.    0.    0.\n",
      "     0.    0.    0.    0.]\n",
      " [   0.    0.    0.    0.    0.    0.    0.  -23.  -20. -128.   41.  -16.\n",
      "     5.   60.  112.   86.   14.   -3.   18.   36. -182.    0.    0.    0.\n",
      "     0.    0.    0.    0.]\n",
      " [   0.    0.    0.    0.    0.  -18. -135.   82.   -6.  -94.   41.   23.\n",
      "   133.   89.   11.    0.    5.   -6.  -47.  -78.    0.    0.    0.    0.\n",
      "     0.    0.    0.    0.]\n",
      " [   0.    0.    0.  -55.  -62.   45. -108.  109.   -6.  -70.  116.  142.\n",
      "    69.  -54.    0.    0.  -47.  -77.   -2.    0.    0.    0.    0.    0.\n",
      "     0.    0.    0.    0.]\n",
      " [   0.    0.    0. -191.  -43.  162. -108.  173.   50.  -40.  122.    2.\n",
      "    53.  -54.  -55.  -62.   -9.    0.    0.    0.    0.    0.    0.    0.\n",
      "     0.    0.    0.    0.]\n",
      " [   0.    0.    0. -191.  -43.  180.   27.   68.   36.  -74.  122.    2.\n",
      "    -5. -111.  -11.    0.    0.    0.    0.    0.    0.    0.    0.    0.\n",
      "     0.    0.    0.    0.]\n",
      " [   0.    0.    0. -136.   19.  117.    0.   41.   36.  -74.  113. -100.\n",
      "   -16.    0.    0.    0.    0.    0.    0.    0.    0.    0.    0.    0.\n",
      "     0.    0.    0.    0.]\n",
      " [   0.    0.    0.    0.    0.    0.    0.    0.    0.    0.    0.    0.\n",
      "     0.    0.    0.    0.    0.    0.    0.    0.    0.    0.    0.    0.\n",
      "     0.    0.    0.    0.]\n",
      " [   0.    0.    0.    0.    0.    0.    0.    0.    0.    0.    0.    0.\n",
      "     0.    0.    0.    0.    0.    0.    0.    0.    0.    0.    0.    0.\n",
      "     0.    0.    0.    0.]]\n"
     ]
    }
   ],
   "source": [
    "from common.layers import Convolution\n",
    "# 3. Convolution 계층 적용\n",
    "Conv = Convolution(W, b, stride=1, pad=1)  # pad=1로 출력 크기 유지\n",
    "out = Conv.forward(x)\n",
    "\n",
    "print(\"합성곱 결과 shape:\", out.shape)\n",
    "print(\"가로선 필터 결과 (0번):\")\n",
    "print(out[0, 0])\n",
    "print(\"세로선 필터 결과 (1번):\")\n",
    "print(out[0, 1])"
   ]
  },
  {
   "cell_type": "code",
   "execution_count": 45,
   "id": "efa5f920",
   "metadata": {},
   "outputs": [
    {
     "name": "stdout",
     "output_type": "stream",
     "text": [
      "출력의 shape: (1, 2, 28, 28)\n",
      "출력의 타입: <class 'numpy.ndarray'>\n",
      "(2, 28, 28)\n",
      "가로선 추출 결과 shape: (28, 28)\n",
      "세로선 추출 결과 shape: (28, 28)\n"
     ]
    }
   ],
   "source": [
    "print(f\"출력의 shape: {np.shape(out)}\")\n",
    "print(f\"출력의 타입: {type(out)}\")\n",
    "print(np.shape(out[0]))\n",
    "print(f\"가로선 추출 결과 shape: {np.shape(out[0, 0])}\")\n",
    "print(f\"세로선 추출 결과 shape: {np.shape(out[0, 1])}\")"
   ]
  },
  {
   "cell_type": "code",
   "execution_count": 39,
   "id": "7106bf96",
   "metadata": {},
   "outputs": [
    {
     "data": {
      "image/png": "[encoded data removed]",
      "text/plain": [
       "<Figure size 600x300 with 2 Axes>"
      ]
     },
     "metadata": {},
     "output_type": "display_data"
    }
   ],
   "source": [
    "import matplotlib.pyplot as plt\n",
    "\n",
    "plt.figure(figsize=(6,3))\n",
    "plt.subplot(1, 2, 1)\n",
    "plt.imshow(out[0, 0], cmap='gray')\n",
    "plt.title('Horizontal Filter Output')\n",
    "plt.subplot(1, 2, 2)\n",
    "plt.imshow(out[0, 1], cmap='gray')\n",
    "plt.title('Vertical Filter Output')\n",
    "plt.show()"
   ]
  },
  {
   "cell_type": "code",
   "execution_count": null,
   "id": "cd7bd502",
   "metadata": {},
   "outputs": [],
   "source": [
    "import numpy as np\n",
    "from common.layers import Convolution\n",
    "\n",
    "W = np.random.randn(3, 1, 3, 3)\n",
    "b = np.zeros(3)\n",
    "\n",
    "Conv = Convolution(W, b, stride=1, pad=0)\n",
    "\n",
    "print(f\"신경망 구조: {Conv}\")\n",
    "print(f\"가중치 W: {Conv.W.shape}, 편향 b: {Conv.b.shape}\")\n",
    "print(f\"가중치 W: {Conv.W}, 편향 b: {Conv.b}\")\n",
    "\n",
    "x = np.random.randn(1, 1, 5, 5)\n",
    "\n"
   ]
  }
 ],
 "metadata": {
  "kernelspec": {
   "display_name": ".venv",
   "language": "python",
   "name": "python3"
  },
  "language_info": {
   "codemirror_mode": {
    "name": "ipython",
    "version": 3
   },
   "file_extension": ".py",
   "mimetype": "text/x-python",
   "name": "python",
   "nbconvert_exporter": "python",
   "pygments_lexer": "ipython3",
   "version": "3.11.9"
  }
 },
 "nbformat": 4,
 "nbformat_minor": 5
}
