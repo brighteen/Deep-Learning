{
 "cells": [
  {
   "cell_type": "markdown",
   "id": "addff057",
   "metadata": {},
   "source": [
    "## **비지도학습 기말고사**\n",
    "\n",
    ">(1) 시험시간: 09:00~23:59분까지<br>\n",
    ">\n",
    ">(2) 파일이름 작성방법: 비지도학습_기말고사_학번_성명.ipynb<br>\n",
    "$\\quad$ $\\checkmark \\ $ 주의사항: jupyternotebook file을 실행해 본 후 upload하세요<br>\n",
    ">\n",
    ">(3) 답안지 제출 <br>\n",
    "$\\qquad$ www.webhard.co.kr<br>\n",
    "$\\qquad$ ID: lindsey<br>\n",
    "$\\qquad$ PW: start<br>\n",
    "$\\qquad$ 답안제출 Folder: 올리기전용/비지도학습/기말고사제출폴더\"에 답안제출<br>\n",
    "$\\quad$ $\\checkmark \\ $ 빈칸에 프로그램을 작성한 후 실행결과를 제출<br>\n",
    "$\\quad$ $\\checkmark \\ $ 시험 시간 이후에 upload된 file은 인정하지 않습니다<br>\n",
    ">(4) 답안지 Report 제출 <br>\n",
    "$\\qquad$ 위의 문제를 다시 풀어 6월 22일 밤 11시 59분까지 다시 제출<br>\n",
    "$\\qquad$ www.webhard.co.kr<br>\n",
    "$\\qquad$ ID: lindsey<br>\n",
    "$\\qquad$ 답안 Report 제출 Folder: 올리기전용/비지도학습/기말고사 Report 제출폴더\"에 답안제출<br>"
   ]
  },
  {
   "cell_type": "markdown",
   "id": "55eadd71",
   "metadata": {},
   "source": [
    "#### **[문제 1]** \n",
    "- 다음 make_blobs dataset에 대해 DBSCAN방법을 이용하여 Clustering하고 Clustering된 결과를 출력하시요<br>\n",
    "- 단 epsilon=0.3, min data수=10으로 설정하시오"
   ]
  },
  {
   "cell_type": "code",
   "execution_count": 1,
   "id": "2281edbc",
   "metadata": {},
   "outputs": [],
   "source": [
    "import numpy as np\n",
    "\n",
    "from sklearn.cluster import DBSCAN\n",
    "from sklearn import metrics\n",
    "from sklearn.datasets import make_blobs\n",
    "from sklearn.preprocessing import StandardScaler\n",
    "\n",
    "centers = [[2, 1], [-2, -1], [2, -1]]\n",
    "X, labels_true = make_blobs(\n",
    "    n_samples=500, centers=centers, cluster_std=0.2, random_state=20\n",
    ")"
   ]
  },
  {
   "cell_type": "code",
   "execution_count": null,
   "id": "2de7194f",
   "metadata": {},
   "outputs": [],
   "source": []
  },
  {
   "cell_type": "markdown",
   "id": "3950be4c",
   "metadata": {},
   "source": [
    "#### **[문제 2]**  \n",
    "\n",
    "- MNIST Dataset에 대해 Autoencoder를 통해 복원된 Data의 image를 하나 출력하시오\n",
    "\n",
    ">- 요구조건<br>\n",
    "$ \\ \\ $ $\\checkmark \\ $ Autoencoder를 이용하여 2차원으로 차원축소 하시오<br>\n",
    "$ \\ \\ $ $\\checkmark \\ $ Encoder 2개의 Convolution layer<br>\n",
    "$ \\ \\ $ $\\checkmark \\ $ Decoder 2개의 Upsampling layer<br>\n",
    "$ \\ \\ $ $\\checkmark \\ $ 학습을 위한 epoch수는 10으로 하시오(출력 image의 품질은 낮을 수 있음)<br>"
   ]
  },
  {
   "cell_type": "code",
   "execution_count": null,
   "id": "1ef52625",
   "metadata": {},
   "outputs": [],
   "source": []
  },
  {
   "cell_type": "markdown",
   "id": "c7078956",
   "metadata": {},
   "source": [
    "#### **[문제 3]** \n",
    "\n",
    "- [문제 2]의 Autoencoder Network을 이용하여  latent space의 분포로부터 5개의 sample을 추출하여 새로운 data를 <br> 생성하여 생성된 image를 출력하시오"
   ]
  },
  {
   "cell_type": "markdown",
   "id": "131560f3",
   "metadata": {},
   "source": []
  },
  {
   "cell_type": "markdown",
   "id": "3fd7b07d",
   "metadata": {},
   "source": [
    "#### **[문제 4]**  \n",
    "\n",
    "- 당신은 카드사의 데이터 분석가입니다. 시스템에 기록된 고객들의 신용카드 거래 로그 데이터를 분석하여 <br> **비정상적인 거래(이상치)** 를 탐지하는 임무를 맡았습니다. 정상적인 거래는 보통 소액으로, 특정 시간대에 <br>  집중되는 경향이 있습니다. 반면, 카드 도용으로 의심되는 비정상 거래는 다음과 같은 특징을 보일 수 있습니다. <br>\n",
    "$ \\ \\ $ (i) 거래 금액이 비정상적으로 높음 <br>\n",
    "$ \\ \\ $ (ii) 평소 거래가 없던 심야 시간대에 갑자기 발생 <br>\n",
    "$ \\ \\ $ (iii) 짧은 시간 내에 여러 번의 거래가 발생 <br>\n",
    "\n",
    "- 아래 generate_data 함수로 생성된 transactions_data를 사용하여, 통계적 기법(Z-Score)을 직접 구현하여 <br>  이상 거래 내역을 탐지하는 코드를 작성하세요<br>\n",
    "$ \\ \\ $ $\\checkmark \\ $ 최종 목표: 이상치로 탐지된 거래의 transaction_id와 해당 거래 내역(딕셔너리)을 출력해야 합니다. <br>\n",
    "\n",
    "> **Dataset 설명**  <br>\n",
    "> - 이 데이터는 1,000건의 카드 거래 기록을 시뮬레이션한 것임<br>\n",
    "> $ \\ \\ $ $\\checkmark \\ $ transaction_id: 거래 고유 ID <br>\n",
    "> $ \\ \\ $ $\\checkmark \\ $ timestamp: 거래 발생 시각 <br>\n",
    "> $ \\ \\ $ $\\checkmark \\ $ amount: 거래 금액 (원) <br>\n",
    "> $ \\ \\ $ $\\checkmark \\ $ hour_of_day: 거래 발생 시간 (0-23시) <br>"
   ]
  },
  {
   "cell_type": "code",
   "execution_count": 3,
   "id": "51851ad3-9fc4-4f3a-951f-9e4859b2c14a",
   "metadata": {},
   "outputs": [],
   "source": [
    "import random\n",
    "import math\n",
    "\n",
    "def generate_data(n_samples=1000):\n",
    "    \"\"\"\n",
    "    카드 거래 데이터를 생성합니다.\n",
    "    \"\"\"\n",
    "    # 데이터셋 재현을 위한 시드 설정\n",
    "    random.seed(42)\n",
    "\n",
    "    # 정상 데이터 생성\n",
    "    # 거래 시간은 주로 주간(9-20시)에 집중\n",
    "    # 거래 금액은 평균 3만원, 표준편차 1.5만원\n",
    "    # Data가 List내에 Dictionary 구조로 되어 있음\n",
    "    \n",
    "    data = []\n",
    "    for i in range(n_samples):\n",
    "        hour = int(random.normalvariate(14, 4)) % 24\n",
    "        amount = abs(random.normalvariate(30000, 15000))\n",
    "        data.append({\n",
    "            'transaction_id': i,\n",
    "            'amount': amount,\n",
    "            'hour_of_day': hour\n",
    "        })\n",
    "\n",
    "    # 이상치(Anomalies) 주입\n",
    "    data[100].update({'amount': 500000, 'hour_of_day': 3})\n",
    "    data[300]['amount'] = 1200000\n",
    "    data[500]['hour_of_day'] = 4\n",
    "    data[700]['amount'] = 300000\n",
    "    data[900].update({'amount': 450000, 'hour_of_day': 2})\n",
    "    \n",
    "    return data\n",
    "\n",
    "# 1. 데이터 생성\n",
    "transactions_data = generate_data()\n"
   ]
  },
  {
   "cell_type": "code",
   "execution_count": null,
   "id": "4831adfe-460e-4aae-8751-cea168ce4e7f",
   "metadata": {},
   "outputs": [],
   "source": []
  },
  {
   "cell_type": "markdown",
   "id": "872e0ee4-cf65-43e8-a39b-8ee23a0fa006",
   "metadata": {},
   "source": [
    "#### **[문제 5]**  \n",
    "\n",
    "- GAN을 이용하여 data 5개를 생성하여 생성된 image를 출력하시오\n",
    "  \n",
    ">- 요구조건<br>\n",
    "$ \\ \\ $ $\\checkmark \\ $ MNIST Dataset을 이용하시오<br>\n",
    "$ \\ \\ $ $\\checkmark \\ $ 3개 layer로 구성된 Generator Network을 사용하시오<br>\n",
    "$ \\ \\ $ $\\checkmark \\ $ 생성되는 image는 $28 \\times 28$ image임<br>\n",
    "$ \\ \\ $ $\\checkmark \\ $ 학습을 위한 epoch수는 10으로 하시오(출력 image의 품질은 낮을 수 있음)"
   ]
  },
  {
   "cell_type": "code",
   "execution_count": null,
   "id": "45aaff6b-2171-4c28-810b-7ecf1f49c587",
   "metadata": {},
   "outputs": [],
   "source": []
  }
 ],
 "metadata": {
  "kernelspec": {
   "display_name": "Python 3 (ipykernel)",
   "language": "python",
   "name": "python3"
  },
  "language_info": {
   "codemirror_mode": {
    "name": "ipython",
    "version": 3
   },
   "file_extension": ".py",
   "mimetype": "text/x-python",
   "name": "python",
   "nbconvert_exporter": "python",
   "pygments_lexer": "ipython3",
   "version": "3.11.9"
  }
 },
 "nbformat": 4,
 "nbformat_minor": 5
}
